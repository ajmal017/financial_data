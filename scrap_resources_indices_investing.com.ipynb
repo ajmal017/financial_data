{
 "cells": [
  {
   "cell_type": "code",
   "execution_count": 15,
   "metadata": {},
   "outputs": [],
   "source": [
    "from requests_html import HTMLSession\n",
    "import os\n",
    "import random\n",
    "import time\n",
    "session = HTMLSession()"
   ]
  },
  {
   "cell_type": "code",
   "execution_count": 16,
   "metadata": {},
   "outputs": [],
   "source": [
    "def load_useragents():\n",
    "    uas = []\n",
    "    with open(\"user-agents.txt\", 'rb') as uaf:\n",
    "        for ua in uaf.readlines():\n",
    "            if ua:\n",
    "                uas.append(ua.strip()[0:-1-0])\n",
    "    random.shuffle(uas)\n",
    "    return uas\n",
    "\n",
    "\n",
    "def extract_items(indices, r, session):\n",
    "    for tr in r.html.find('tr'):\n",
    "        if str(tr.attrs.get('id')).startswith('pair_') is False:\n",
    "            continue\n",
    "\n",
    "        name = tr.find('a', first=True).text\n",
    "        url = list(tr.find('a', first=True).absolute_links)[0]\n",
    "        id_indice = tr.attrs.get('id').split('pair_')[1]\n",
    "        \n",
    "        print('Scraping data', name, id_indice, url)\n",
    "\n",
    "        headers = {'User-Agent': random.choice(load_useragents())}\n",
    "        r2 = session.get(url, headers=headers)\n",
    "        time.sleep(5)\n",
    "        \n",
    "        tag = url.split('/')[-1]\n",
    "        div_info = r2.html.find('.right.general-info', first=True)\n",
    "        print(div_info)\n",
    "        type_indice = div_info.find('span')[1].text\n",
    "\n",
    "        market = div_info.find('span')[3].text.lower()\n",
    "        market = market.replace(' ', '_').lower()\n",
    "        country = market\n",
    "        \n",
    "        if market == 'global_indices':\n",
    "            country = 'world'\n",
    "\n",
    "        div_head = r2.html.find('.instrumentHead', first=True)\n",
    "        symbol = div_head.find('h1')[0].text.split(' (')[1][:-1]\n",
    "\n",
    "        current_data = r2.html.find('.current-data', first=True)\n",
    "        currency = current_data.text.split('Currency in ')[1].split(' ')[0]\n",
    "\n",
    "        item = {\n",
    "            'country': country,\n",
    "            'name': name,\n",
    "            'full_name': name,\n",
    "            'tag': tag,\n",
    "            'id': id_indice,\n",
    "            'symbol': symbol,\n",
    "            'currency': currency,\n",
    "            'class': type_indice,\n",
    "            'market': market\n",
    "        }\n",
    "\n",
    "        indices.append(item)\n",
    "    \n",
    "    return indices\n",
    "    print('Captura finalizada')"
   ]
  },
  {
   "cell_type": "code",
   "execution_count": 17,
   "metadata": {},
   "outputs": [],
   "source": [
    "indices = [] "
   ]
  },
  {
   "cell_type": "code",
   "execution_count": null,
   "metadata": {},
   "outputs": [],
   "source": [
    "url = 'https://www.investing.com/indices/world-indices?&majorIndices=on&primarySectors=on&additionalIndices=on&otherIndices=on'\n",
    "headers = {'User-Agent': random.choice(load_useragents())}\n",
    "r = session.get(url, headers=headers)\n",
    "print(r)\n",
    "indices = extract_items(indices, r, session)\n",
    "len(indices)"
   ]
  },
  {
   "cell_type": "code",
   "execution_count": null,
   "metadata": {},
   "outputs": [],
   "source": [
    "url = 'https://www.investing.com/indices/global-indices?majorIndices=on&primarySectors=on&bonds=on&additionalIndices=on&otherIndices=on&commodities=on'\n",
    "headers = {'User-Agent': random.choice(load_useragents())}\n",
    "r = session.get(url, headers=headers)\n",
    "print(r)\n",
    "indices = extract_items(indices, r, session)\n",
    "len(indices)"
   ]
  }
 ],
 "metadata": {
  "kernelspec": {
   "display_name": "Python 3",
   "language": "python",
   "name": "python3"
  },
  "language_info": {
   "codemirror_mode": {
    "name": "ipython",
    "version": 3
   },
   "file_extension": ".py",
   "mimetype": "text/x-python",
   "name": "python",
   "nbconvert_exporter": "python",
   "pygments_lexer": "ipython3",
   "version": "3.7.7"
  }
 },
 "nbformat": 4,
 "nbformat_minor": 4
}
